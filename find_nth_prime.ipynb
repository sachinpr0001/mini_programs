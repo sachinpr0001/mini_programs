{
 "cells": [
  {
   "cell_type": "code",
   "execution_count": 25,
   "metadata": {},
   "outputs": [
    {
     "name": "stdout",
     "output_type": "stream",
     "text": [
      "104743\n"
     ]
    }
   ],
   "source": [
    "def check_prime(n):\n",
    "    flag = False\n",
    "    for d in range(2, n, 1):\n",
    "        if n % d == 0:\n",
    "            flag = True\n",
    "    return flag\n",
    "count = 0\n",
    "n = 2\n",
    "found = False\n",
    "while found is False:\n",
    "    prime = check_prime(n)\n",
    "    if prime is False:\n",
    "        count = count + 1\n",
    "        if count == 10001:\n",
    "            print(n)\n",
    "            found = True\n",
    "            break\n",
    "        n = n + 1\n",
    "    else:\n",
    "        n += 1"
   ]
  }
 ],
 "metadata": {
  "kernelspec": {
   "display_name": "Python 3",
   "language": "python",
   "name": "python3"
  },
  "language_info": {
   "codemirror_mode": {
    "name": "ipython",
    "version": 3
   },
   "file_extension": ".py",
   "mimetype": "text/x-python",
   "name": "python",
   "nbconvert_exporter": "python",
   "pygments_lexer": "ipython3",
   "version": "3.7.3"
  }
 },
 "nbformat": 4,
 "nbformat_minor": 2
}
