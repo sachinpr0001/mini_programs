{
 "cells": [
  {
   "cell_type": "code",
   "execution_count": null,
   "metadata": {},
   "outputs": [],
   "source": [
    "n = int(input())\n",
    "li = [int(x) for x in input().split()]\n",
    "\n",
    "m = int(input())\n",
    "li2 = [int(y) for y in input().split()]\n",
    "\n",
    "li.sort()\n",
    "li2.sort()\n",
    "i = 0\n",
    "j = 0\n",
    "while i<n and j<m:\n",
    "    if li[i] == li2[j]:\n",
    "        print(li[i])\n",
    "        i = i + 1\n",
    "        j = j + 1\n",
    "    elif li[i] > li2[j]:\n",
    "        j = j + 1\n",
    "    else:\n",
    "        i = i + 1"
   ]
  }
 ],
 "metadata": {
  "kernelspec": {
   "display_name": "Python 3",
   "language": "python",
   "name": "python3"
  },
  "language_info": {
   "codemirror_mode": {
    "name": "ipython",
    "version": 3
   },
   "file_extension": ".py",
   "mimetype": "text/x-python",
   "name": "python",
   "nbconvert_exporter": "python",
   "pygments_lexer": "ipython3",
   "version": "3.8.10"
  }
 },
 "nbformat": 4,
 "nbformat_minor": 4
}
