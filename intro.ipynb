{
 "cells": [
  {
   "cell_type": "markdown",
   "metadata": {},
   "source": [
    "Given three values - Start Fahrenheit Value (S), End Fahrenheit value (E) and Step Size (W), you need to convert all Fahrenheit values from Start to End at the gap of W, into their corresponding Celsius values and print the table."
   ]
  },
  {
   "cell_type": "code",
   "execution_count": 2,
   "metadata": {
    "scrolled": true
   },
   "outputs": [
    {
     "name": "stdout",
     "output_type": "stream",
     "text": [
      "2\n",
      "2\n",
      "2\n",
      "2 \t -16\n"
     ]
    }
   ],
   "source": [
    "s=int(input())\n",
    "e=int(input())\n",
    "w=int(input())\n",
    "\n",
    "while s<=e:\n",
    "    c=int((s-32)*5/9)\n",
    "    print(s, \"\\t\", c)\n",
    "    s=s+w"
   ]
  },
  {
   "cell_type": "markdown",
   "metadata": {},
   "source": [
    "Write a program that works as a simple calculator. It reads an integer for choice.\n",
    "1. If the choice is 1, 2 integers are taken for input and their sum is printed.\n",
    "2. If the choice is 2, 2 integers are taken for input and their difference is printed.\n",
    "3. If  the choice is 3, 2 integers are taken for input and their product is printed.\n",
    "4. If  the choice is 4, 2 integers are taken for input and their quotient is printed.\n",
    "5. If  the choice is 5, 2 integers are taken for input and their remainder is printed.\n",
    "6. If the choice is 6, the program exits, \n",
    "For any other choice, print \"Invalid Operation\" and ask for choice again."
   ]
  },
  {
   "cell_type": "code",
   "execution_count": null,
   "metadata": {},
   "outputs": [],
   "source": [
    "flag = True\n",
    "while flag==True:\n",
    "    \n",
    "    choice = int(input())\n",
    "    if choice == 1:\n",
    "        a = int(input())\n",
    "        b = int(input())\n",
    "        print(int(a+b))\n",
    "    elif choice == 2:\n",
    "        a = int(input())\n",
    "        b = int(input())\n",
    "        print(int(a-b))\n",
    "    elif choice == 3:\n",
    "        a = int(input())\n",
    "        b = int(input())\n",
    "        print(int(a*b))\n",
    "    elif choice == 4:\n",
    "        a = int(input())\n",
    "        b = int(input())\n",
    "        print(int(a/b))\n",
    "    elif choice == 5:\n",
    "        a = int(input())\n",
    "        b = int(input())\n",
    "        print(int(a%b))\n",
    "    elif choice == 6:\n",
    "        flag = False\n",
    "    else:\n",
    "        print (\"Invalid Operation\")\n"
   ]
  },
  {
   "cell_type": "markdown",
   "metadata": {},
   "source": [
    "Write a program to generate the reverse of a given number N. Print the corresponding reverse number."
   ]
  },
  {
   "cell_type": "code",
   "execution_count": null,
   "metadata": {},
   "outputs": [],
   "source": [
    "n = int(input())\n",
    "count = 1\n",
    "c = 1\n",
    "a = 0\n",
    "k = abs(n)\n",
    "while k>0:\n",
    "    \n",
    "    c = k%10\n",
    "    a = a*10 + c\n",
    "    k = k//10   \n",
    "print (a)"
   ]
  },
  {
   "cell_type": "markdown",
   "metadata": {},
   "source": [
    "Write a program to determine if given number is palindrome or not. Print true if it is palindrome, false otherwise."
   ]
  },
  {
   "cell_type": "code",
   "execution_count": null,
   "metadata": {},
   "outputs": [],
   "source": [
    "n = int(input())\n",
    "count = 1\n",
    "c = 1\n",
    "a = 0\n",
    "k = int(n)\n",
    "while count<int(n):\n",
    "    \n",
    "    c = k%10\n",
    "    a = a*10 + c\n",
    "    k = k//10\n",
    "    count = count*10\n",
    "\n",
    "if a == n:\n",
    "    print(\"true\")\n",
    "    \n",
    "else:\n",
    "    print(\"false\")"
   ]
  },
  {
   "cell_type": "markdown",
   "metadata": {},
   "source": [
    "Write a program to input an integer N and print the sum of all its even digits and sum of all its odd digits separately."
   ]
  },
  {
   "cell_type": "code",
   "execution_count": null,
   "metadata": {},
   "outputs": [],
   "source": [
    "n = int(input())\n",
    "a = 1\n",
    "sumEven = 0\n",
    "sumOdd = 0\n",
    "while n>0:\n",
    "    a = n%10\n",
    "    n = n//10    \n",
    "    if (a%2==0):\n",
    "        sumEven = sumEven + a\n",
    "    else:\n",
    "        sumOdd = sumOdd + a\n",
    "\n",
    "print(sumEven, \" \", sumOdd)"
   ]
  },
  {
   "cell_type": "markdown",
   "metadata": {},
   "source": [
    "Nth term of fibonacci series F(n) is calculated using following formula -\n",
    "    F(n) = F(n-1) + F(n-2), \n",
    "    Where, F(1) = F(2) = 1\n",
    "Provided N you have to find out the Nth Fibonacci Number."
   ]
  },
  {
   "cell_type": "code",
   "execution_count": null,
   "metadata": {},
   "outputs": [],
   "source": [
    "n = int(input())\n",
    "i = 1\n",
    "a = 1\n",
    "sum = 0\n",
    "flag = False\n",
    "while(i<=n):\n",
    "    sum = sum + a\n",
    "    a = sum - a\n",
    "    if i ==n:\n",
    "        flag = True\n",
    "    i = i + 1\n",
    "if flag:\n",
    "    print(sum)"
   ]
  },
  {
   "cell_type": "markdown",
   "metadata": {},
   "source": [
    "Pattern for N = 4\n",
    "1\n",
    "11\n",
    "111\n",
    "1111"
   ]
  },
  {
   "cell_type": "code",
   "execution_count": 1,
   "metadata": {},
   "outputs": [
    {
     "name": "stdout",
     "output_type": "stream",
     "text": [
      "4\n",
      "1\n",
      "11\n",
      "111\n",
      "1111\n"
     ]
    }
   ],
   "source": [
    "n = int(input())\n",
    "i = 1\n",
    "\n",
    "while(i<=n):\n",
    "    j = 1\n",
    "    while(j<=i):\n",
    "        print(\"1\", end = \"\")\n",
    "        j=j+1\n",
    "    print()\n",
    "    i=i+1"
   ]
  },
  {
   "cell_type": "markdown",
   "metadata": {},
   "source": [
    "Pattern for N = 4\n",
    "1\n",
    "11\n",
    "202\n",
    "3003"
   ]
  },
  {
   "cell_type": "code",
   "execution_count": 2,
   "metadata": {},
   "outputs": [
    {
     "name": "stdout",
     "output_type": "stream",
     "text": [
      "4\n",
      "1\n",
      "11\n",
      "202\n",
      "3003\n"
     ]
    }
   ],
   "source": [
    "n = int(input())\n",
    "print(\"1\")\n",
    "i = 0\n",
    "while(i<=n-2):\n",
    "    \n",
    "    j=1\n",
    "    while(j<=i+2):\n",
    "        if j==1 or j==i+2:\n",
    "            print(i+1, end = \"\")\n",
    "        else:\n",
    "            print(\"0\", end = \"\")\n",
    "        \n",
    "        j=j+1\n",
    "    print()\n",
    "    i=i+1"
   ]
  },
  {
   "cell_type": "markdown",
   "metadata": {},
   "source": [
    "Pattern for N = 4\n",
    "1\n",
    "11\n",
    "121\n",
    "1221"
   ]
  },
  {
   "cell_type": "code",
   "execution_count": 3,
   "metadata": {},
   "outputs": [
    {
     "name": "stdout",
     "output_type": "stream",
     "text": [
      "4\n",
      "1\n",
      "11\n",
      "121\n",
      "1221\n"
     ]
    }
   ],
   "source": [
    "n = int(input())\n",
    "print(\"1\")\n",
    "i = 0\n",
    "while(i<=n-2):\n",
    "    \n",
    "    j=1\n",
    "    while(j<=i+2):\n",
    "        if j==1 or j==i+2:\n",
    "            print(\"1\", end = \"\")\n",
    "        else:\n",
    "            print(\"2\", end = \"\")\n",
    "        \n",
    "        j=j+1\n",
    "    print()\n",
    "    i=i+1"
   ]
  },
  {
   "cell_type": "markdown",
   "metadata": {},
   "source": [
    "Pattern for N = 4\n",
    "1234\n",
    "123\n",
    "12\n",
    "1"
   ]
  },
  {
   "cell_type": "code",
   "execution_count": null,
   "metadata": {},
   "outputs": [],
   "source": [
    "n = int(input())\n",
    "i = 1\n",
    "\n",
    "while (i<=n):\n",
    "    j=n-i+1\n",
    "    k=1\n",
    "    while(j>0):\n",
    "        print(k, end = \"\")\n",
    "        j=j-1\n",
    "        k=k+1\n",
    "        \n",
    "    print()\n",
    "    i=i+1"
   ]
  },
  {
   "cell_type": "markdown",
   "metadata": {},
   "source": [
    "Pattern for N = 3\n",
    " A\n",
    " BB\n",
    " CCC"
   ]
  },
  {
   "cell_type": "code",
   "execution_count": null,
   "metadata": {},
   "outputs": [],
   "source": [
    "n = int(input())\n",
    "i = 1\n",
    "while(i<=n):\n",
    "    j=1\n",
    "    \n",
    "    while(j<=i):\n",
    "        x = ord('A') + i - 1\n",
    "        y = chr(x)\n",
    "\n",
    "        print(y, end = \"\")\n",
    "        j = j + 1\n",
    "    print()\n",
    "    i = i + 1"
   ]
  },
  {
   "cell_type": "markdown",
   "metadata": {},
   "source": [
    "Print the following pattern for n number of rows.\n",
    "For eg. N = 5\n",
    "\n",
    "1        1\n",
    "12      21\n",
    "123    321\n",
    "1234  4321\n",
    "1234554321"
   ]
  },
  {
   "cell_type": "code",
   "execution_count": 4,
   "metadata": {},
   "outputs": [
    {
     "name": "stdout",
     "output_type": "stream",
     "text": [
      "5\n",
      "1        1\n",
      "12      21\n",
      "123    321\n",
      "1234  4321\n",
      "1234554321\n"
     ]
    }
   ],
   "source": [
    "n = int(input())\n",
    "i = 1\n",
    "while i<=n:\n",
    "    j=1\n",
    "    while j<=i:\n",
    "        print(j, end = \"\")\n",
    "        j = j + 1\n",
    "    s = i + 1\n",
    "    while s<=n - i + n:\n",
    "        print(\" \", end = \"\")\n",
    "        s = s + 1\n",
    "    k = n + 1\n",
    "    l = i\n",
    "    while k<=i + n:\n",
    "        print(l, end = \"\")\n",
    "        k = k + 1\n",
    "        l = l - 1\n",
    "    print()\n",
    "    i = i + 1"
   ]
  },
  {
   "cell_type": "markdown",
   "metadata": {},
   "source": [
    "Print the following pattern\n",
    "Pattern for N = 4\n",
    "*000*000*\n",
    "0*00*00*0\n",
    "00*0*0*00\n",
    "000***000"
   ]
  },
  {
   "cell_type": "code",
   "execution_count": 5,
   "metadata": {},
   "outputs": [
    {
     "name": "stdout",
     "output_type": "stream",
     "text": [
      "5\n",
      "*0000*0000*\n",
      "0*000*000*0\n",
      "00*00*00*00\n",
      "000*0*0*000\n",
      "0000***0000\n"
     ]
    }
   ],
   "source": [
    "n = int(input())\n",
    "i = 1\n",
    "while i<=n:\n",
    "    j=1\n",
    "    while j<=i:\n",
    "        if j==i:\n",
    "            print(\"*\", end = \"\")\n",
    "        else:\n",
    "            print(\"0\", end = \"\")\n",
    "        j = j + 1\n",
    "    s = i + 1\n",
    "    while s<=n - i + n + 1:\n",
    "        if s==n+1:\n",
    "            print(\"*\", end = \"\")\n",
    "        else:\n",
    "            print(\"0\", end = \"\")\n",
    "        s = s + 1\n",
    "    k = i\n",
    "    \n",
    "    \n",
    "    while k>=1:\n",
    "        if k==i:\n",
    "            print(\"*\", end = \"\")\n",
    "        else:\n",
    "            print(\"0\", end = \"\")\n",
    "        \n",
    "        k = k - 1\n",
    "       \n",
    "    print()\n",
    "    i = i + 1"
   ]
  },
  {
   "cell_type": "markdown",
   "metadata": {},
   "source": [
    "Pattern for N = 4\n",
    "   1\n",
    "  212\n",
    " 32123\n",
    "4321234"
   ]
  },
  {
   "cell_type": "code",
   "execution_count": null,
   "metadata": {},
   "outputs": [],
   "source": [
    "n = int(input())\n",
    "i = 1\n",
    "while i <=n:\n",
    "    s = 1\n",
    "    while s<=n-i:\n",
    "        print(\" \", end = \"\")\n",
    "        s = s + 1\n",
    "    j = 1\n",
    "    k = i\n",
    "    while j <=i:\n",
    "        print(k, end = \"\")\n",
    "        k = k - 1\n",
    "        j = j + 1\n",
    "    r = 2\n",
    "    while r <= i:\n",
    "        print(r, end = \"\")\n",
    "        r = r + 1\n",
    "    print()\n",
    "    i = i + 1"
   ]
  },
  {
   "cell_type": "markdown",
   "metadata": {},
   "source": [
    "Print the following pattern for the given number of rows.\n",
    "Assume N is always odd.\n",
    "Note : There is space after every star.\n",
    "Pattern for N = 7\n",
    "*\n",
    " * *\n",
    "   * * *\n",
    "     * * * *\n",
    "   * * *\n",
    " * *\n",
    "*"
   ]
  },
  {
   "cell_type": "code",
   "execution_count": null,
   "metadata": {},
   "outputs": [],
   "source": [
    "n = int(input())\n",
    "\n",
    "if n%2!=0:\n",
    "    i = 1\n",
    "    \n",
    "    n1 = (n+1)/2\n",
    "    \n",
    "    while i<=n1:\n",
    "        s = 1\n",
    "        while s <= i - 1:\n",
    "            print(\" \", end = \"\")\n",
    "            s = s + 1\n",
    "        j = 1\n",
    "        while j <=i:\n",
    "            print(\"* \", end = \"\")\n",
    "            j = j + 1\n",
    "        print()\n",
    "        i = i + 1\n",
    "    \n",
    "    i = 1\n",
    "    n2 = n/2\n",
    "    \n",
    "    while i <=n2:\n",
    "        r = 1\n",
    "        while r <= n2 - i:\n",
    "            print(\" \", end = \"\")\n",
    "            r = r + 1\n",
    "        f = 1\n",
    "        while f <=n2 - i + 1:\n",
    "            print(\"* \", end = \"\")\n",
    "            f = f + 1\n",
    "        print()\n",
    "        i = i + 1"
   ]
  },
  {
   "cell_type": "markdown",
   "metadata": {},
   "source": [
    "Pattern for N = 4\n",
    "1111\n",
    "000\n",
    "11\n",
    "0"
   ]
  },
  {
   "cell_type": "code",
   "execution_count": 6,
   "metadata": {
    "scrolled": true
   },
   "outputs": [
    {
     "name": "stdout",
     "output_type": "stream",
     "text": [
      "4\n",
      "1111\n",
      "000\n",
      "11\n",
      "0\n"
     ]
    }
   ],
   "source": [
    "n = int(input())\n",
    "if(n%2==0):\n",
    "    while(n):\n",
    "        if (n%2==0):\n",
    "            print(\"1\"*n)\n",
    "        else:\n",
    "            print(\"0\"*n)\n",
    "        n=n-1\n",
    "        \n",
    "else: \n",
    "    while(n):\n",
    "        if(n%2==0):\n",
    "             print (\"0\"*n)\n",
    "        else:\n",
    "             print(\"1\"*n)\n",
    "        n=n-1"
   ]
  },
  {
   "cell_type": "raw",
   "metadata": {},
   "source": [
    " N = 6\n",
    "123456\n",
    " 23456\n",
    "  3456\n",
    "   456\n",
    "    56\n",
    "     6\n",
    "    56\n",
    "   456\n",
    "  3456\n",
    " 23456\n",
    "123456"
   ]
  },
  {
   "cell_type": "code",
   "execution_count": null,
   "metadata": {},
   "outputs": [],
   "source": [
    "n = int(input())\n",
    "i = 1\n",
    "for i in range (1, n+1, 1):\n",
    "    for s in range (1, i, 1):\n",
    "        print(\" \", end = \"\")\n",
    "    for j in range (i, n+1, 1):\n",
    "        print(j, end = \"\")\n",
    "    print()\n",
    "for i in range (1, n, 1):\n",
    "    for s in range (1, n-i, 1):\n",
    "        print(\" \", end = \"\")\n",
    "    k = n-i\n",
    "    for j in range (n-i, n+1, 1):\n",
    "        print(k, end = \"\")\n",
    "        k = k + 1\n",
    "    print()"
   ]
  },
  {
   "attachments": {},
   "cell_type": "raw",
   "metadata": {},
   "source": [
    "Note: N is always odd.\n",
    "\n",
    "\n",
    "Pattern for N = 5\n",
    "  *\n",
    " ***\n",
    "*****\n",
    " ***\n",
    "  *"
   ]
  },
  {
   "cell_type": "code",
   "execution_count": null,
   "metadata": {},
   "outputs": [],
   "source": [
    "n = int(input())\n",
    "if n%2!=0:\n",
    "    n1 = (n+1)//2\n",
    "    n2 = (n-1)//2\n",
    "    for i in range(1, n1+1, 1):\n",
    "        for s in range(1, n1-i+1, 1):\n",
    "            print(\" \", end = \"\")\n",
    "        for j in range(1, 2*(i-1)+2, 1):\n",
    "            print(\"*\", end = \"\")\n",
    "        print()\n",
    "    for i in range(1, n2+1, 1):\n",
    "        for s in range(1, i+1, 1):\n",
    "            print(\" \", end = \"\")\n",
    "        for j in range(2*(n2-i+1)-1, 0, -1):\n",
    "            print(\"*\", end = \"\")\n",
    "        print()\n",
    "else:\n",
    "    n1 = n//2 + 1\n",
    "    n2 = (n//2) - 1\n",
    "    for i in range(1, n1+1, 1):\n",
    "        for s in range(1, n1-i+1, 1):\n",
    "            print(\" \", end = \"\")\n",
    "        for j in range(1, 2*(i-1)+2, 1):\n",
    "            print(\"*\", end = \"\")\n",
    "        print()\n",
    "    for i in range(1, n2+1, 1):\n",
    "        for s in range(1, i+2, 1):\n",
    "            print(\" \", end = \"\")\n",
    "        for j in range(2*(n2-i+1)-1, 0, -1):\n",
    "            print(\"*\", end = \"\")\n",
    "        print()\n"
   ]
  },
  {
   "cell_type": "raw",
   "metadata": {},
   "source": [
    "Pattern for N = 4\n",
    "4444444\n",
    "4333334\n",
    "4322234\n",
    "4321234\n",
    "4322234\n",
    "4333334  \n",
    "4444444"
   ]
  },
  {
   "cell_type": "code",
   "execution_count": 8,
   "metadata": {},
   "outputs": [
    {
     "name": "stdout",
     "output_type": "stream",
     "text": [
      "5\n",
      "555555555\n",
      "544444445\n",
      "543333345\n",
      "543222345\n",
      "543212345\n",
      "543222345\n",
      "543333345\n",
      "544444445\n",
      "555555555\n",
      "\n"
     ]
    }
   ],
   "source": [
    "n = int(input())\n",
    "\n",
    "#      UPPER SECTION\n",
    "\n",
    "for i in range(1, n+1, 1):\n",
    "    count1 = 1\n",
    "    count2 = 1\n",
    "    count3 = 1\n",
    "    k = n\n",
    "    for j in range(1, n+1, 1):\n",
    "        while(k>=n-i+1 and count1 <=n):\n",
    "            count1 = count1 + 1\n",
    "            print(k, end = \"\")\n",
    "            k = k - 1;\n",
    "    for r in range(2, n+1, 1):\n",
    "        while(count2<=n-i):\n",
    "            count2 = count2 + 1\n",
    "            print(n-i+1, end = \"\")\n",
    "    for s in range(n+1, 2*n, 1):\n",
    "        while(count3<=n-i):\n",
    "            count3 = count3 + 1\n",
    "            print(n-i+1, end = \"\")\n",
    "    d = n-i+2\n",
    "    for l in range(2*n-i, 2*n-1, 1):\n",
    "        print(d, end = \"\")\n",
    "        d = d + 1\n",
    "    print() \n",
    "\n",
    "#     LOWER SECTION\n",
    "\n",
    "for i in range(1, n+1, 1):\n",
    "    count2 = 1\n",
    "    count3 = 1\n",
    "    k = n\n",
    "    for j in range(1, n-i+1, 1):\n",
    "           # while(k>=n-i+1): # and count1 <=n\n",
    "            #count1 = count1 + 1\n",
    "            print(k, end = \"\")\n",
    "            k = k - 1\n",
    "            \n",
    "    for r in range(1, n+1, 1):\n",
    "        k = i+1\n",
    "        while(count2<=i and k <=n):\n",
    "            count2 = count2 + 1\n",
    "            print(k, end = \"\")\n",
    "        \n",
    "    for s in range(1, i+1, 1):\n",
    "        k = i+1\n",
    "        while(i<=n-1):\n",
    "         #   count3 = count3 + 1\n",
    "            \n",
    "            print(k, end = \"\")\n",
    "            break            #n-i+1\n",
    "    #d = n-i+2\n",
    "    for l in range(1, n-i, 1):\n",
    "        print(i+l+1, end = \"\")\n",
    "     #   d = d + 1\n",
    "    print() \n"
   ]
  },
  {
   "cell_type": "markdown",
   "metadata": {},
   "source": [
    "Pattern for N = 5\n",
    " 1    2   3    4   5\n",
    " 11   12  13   14  15\n",
    " 21   22  23   24  25\n",
    " 16   17  18   19  20\n",
    " 6    7    8   9   10"
   ]
  },
  {
   "cell_type": "code",
   "execution_count": 9,
   "metadata": {},
   "outputs": [
    {
     "name": "stdout",
     "output_type": "stream",
     "text": [
      "7\n",
      "1 2 3 4 5 6 7 \n",
      "15 16 17 18 19 20 21 \n",
      "29 30 31 32 33 34 35 \n",
      "43 44 45 46 47 48 49 \n",
      "36 37 38 39 40 41 42 \n",
      "22 23 24 25 26 27 28 \n",
      "8 9 10 11 12 13 14 \n"
     ]
    }
   ],
   "source": [
    "n = int(input())\n",
    "\n",
    "if n%2==0:\n",
    "    i = 1\n",
    "    r = 0\n",
    "    n1 = n//2\n",
    "    n2 = n//2 \n",
    "\n",
    "    while i<=n1:\n",
    "    \n",
    "        for j in range(1, n + 1, 1):\n",
    "            print (2*r*n + j, end = \" \")\n",
    "        r = r + 1\n",
    "        print()\n",
    "        i = i + 1\n",
    "else:\n",
    "    i = 1\n",
    "    r = 0\n",
    "    n1 = n//2 + 1\n",
    "    n2 = n//2 \n",
    "\n",
    "    while i<=n1:\n",
    "    \n",
    "        for j in range(1, n + 1, 1):\n",
    "            print (2*r*n + j, end = \" \")\n",
    "        r = r + 1\n",
    "        print()\n",
    "        i = i + 1\n",
    "\n",
    "if n%2==0:\n",
    "    n1 = n//2\n",
    "    n2 = n//2\n",
    "    d = n1\n",
    "    i = 1\n",
    "    while i<=n2:\n",
    "    \n",
    "        for j in range(1, n + 1, 1):\n",
    "            print ((2*d - 1)*n + j, end = \" \")\n",
    "        d = d - 1\n",
    "        print()\n",
    "    \n",
    "        i = i + 1\n",
    "else:\n",
    "    n1 = n//2\n",
    "    n2 = n//2\n",
    "    d = n1\n",
    "    i = 1\n",
    "    while i<=n2:\n",
    "    \n",
    "        for j in range(1, n + 1, 1):\n",
    "            print ((2*d-1)*n + j, end = \" \")\n",
    "        d = d - 1\n",
    "        print()\n",
    "    \n",
    "        i = i + 1\n"
   ]
  },
  {
   "cell_type": "markdown",
   "metadata": {},
   "source": [
    "Given a number N, figure out if it is a member of fibonacci series or not. Return true if the number is member of fibonacci series else false.\n",
    "Fibonacci Series is defined by the recurrence\n",
    "    F(n) = F(n-1) + F(n-2)\n",
    "where F(0) = 0 and F(1) = 1"
   ]
  },
  {
   "cell_type": "code",
   "execution_count": null,
   "metadata": {},
   "outputs": [],
   "source": [
    "\n",
    "def checkMember(n):\n",
    "#Implement Your Code Here\n",
    "    d = 0\n",
    "    a = 1\n",
    "    flag = False\n",
    "    for i in range (1, n+1, 1):\n",
    "        d = d + a\n",
    "        a = d - a\n",
    "        if n==d:\n",
    "            flag = True\n",
    "            break\n",
    "        else:\n",
    "            flag = False\n",
    "    if(flag):\n",
    "        return True\n",
    "    else:\n",
    "        return False\n",
    "        \n",
    "n=int(input())\n",
    "\n",
    "if(checkMember(n)):\n",
    "    print(\"true\")\n",
    "else:\n",
    "    print(\"false\")"
   ]
  },
  {
   "cell_type": "markdown",
   "metadata": {},
   "source": [
    "Write a program to determine if given number is palindrome or not. Print true if it is palindrome, false otherwise.\n",
    "Palindrome are the numbers for which reverse is exactly same as the original one. For eg. 121"
   ]
  },
  {
   "cell_type": "code",
   "execution_count": null,
   "metadata": {},
   "outputs": [],
   "source": [
    "def checkPalindrome(num):\n",
    "    rev = 0\n",
    "    n = num\n",
    "    for i in range(1, n+1, 1):\n",
    "        if n>0:\n",
    "            d = n%10\n",
    "            rev = rev*10 + d\n",
    "            n = n//10\n",
    "    if rev==num:\n",
    "        return True\n",
    "    else:\n",
    "        return False\n",
    "#Implement Your Code Here\n",
    "\t\n",
    "\t\t\n",
    "num = int(input())\n",
    "isPalindrome = checkPalindrome(num)\n",
    "if(isPalindrome):\n",
    "\tprint('true')\n",
    "else:\n",
    "\tprint('false')\n"
   ]
  },
  {
   "cell_type": "markdown",
   "metadata": {},
   "source": [
    "Write a Program to determine if the given number is Armstrong number or not. Print true if number is armstrong, otherwise print false.\n",
    "An Armstrong number is a number (with digits n) such that the sum of its digits raised to nth power is equal to the number itself."
   ]
  },
  {
   "cell_type": "code",
   "execution_count": null,
   "metadata": {},
   "outputs": [],
   "source": [
    "## Read input as specified in the question.\n",
    "## Print output as specified in the question.\n",
    "def isArmstrong(n):\n",
    "    num = n\n",
    "    a = 0\n",
    "    length = len(str(num))\n",
    "    for i in range(1, length+1, 1):\n",
    "        d = num%10\n",
    "        a = a + d**length\n",
    "        num = num//10\n",
    "    if a == n:\n",
    "        return True\n",
    "    else:\n",
    "        return False\n",
    "    \n",
    "n = int(input())\n",
    "\n",
    "checkArmstrong = isArmstrong(n)\n",
    "if(checkArmstrong):\n",
    "    print(\"true\")\n",
    "else: \n",
    "    print(\"false\")"
   ]
  },
  {
   "cell_type": "raw",
   "metadata": {},
   "source": [
    "Given an array of length N, swap every pair of alternate elements in the array.\n",
    "You don't need to print or return anything, just change in the input array itself."
   ]
  },
  {
   "cell_type": "code",
   "execution_count": 10,
   "metadata": {},
   "outputs": [
    {
     "name": "stdout",
     "output_type": "stream",
     "text": [
      "5\n",
      "1 2 3 4 5\n",
      "2 1 4 3 5 "
     ]
    }
   ],
   "source": [
    "n=int(input())\n",
    "li= [int(x) for x in input().split()]\n",
    "\n",
    "for i in range(0,n-1,2):\n",
    "    li[i],li[i+1]=li[i+1],li[i]\n",
    "    \n",
    "for ele in li:\n",
    "    print(ele, end = \" \")"
   ]
  },
  {
   "cell_type": "raw",
   "metadata": {},
   "source": [
    "Given an integer array of size 2N + 1. In this given array, N numbers are present twice and one number is present only once in the array.\n",
    "You need to find and return that number which is unique in the array.\n",
    "Note : Given array will always contain odd number of elements."
   ]
  },
  {
   "cell_type": "code",
   "execution_count": null,
   "metadata": {},
   "outputs": [],
   "source": [
    "n = int(input())\n",
    "li = [int(x) for x in input().split()]\n",
    "#for i in range(n):\n",
    " #   curr = int(input())\n",
    "  #  li.append(curr)\n",
    "for j in range(n):\n",
    "    for k in range(n):\n",
    "        if k == j:\n",
    "            pass\n",
    "        elif li[j] == li[k]:\n",
    "            break\n",
    "    if li[j]!=li[k]:\n",
    "        print(li[j])\n",
    "       "
   ]
  },
  {
   "cell_type": "raw",
   "metadata": {},
   "source": [
    "Find duplicate\n",
    "Send Feedback\n",
    "Given an array of integers of size N which contains numbers from 0 to n - 2. Each number is present at least once. That is, if n = 5, numbers from 0 to 3 is present in the given array at least once and one number is present twice. You need to find and return that duplicate number present in the array.\n",
    "Assume, duplicate number is always present in the array."
   ]
  },
  {
   "cell_type": "code",
   "execution_count": 11,
   "metadata": {},
   "outputs": [
    {
     "name": "stdout",
     "output_type": "stream",
     "text": [
      "5\n",
      "2 1 2 3 2\n",
      "2\n",
      "2\n",
      "2\n"
     ]
    }
   ],
   "source": [
    "n = int(input())\n",
    "str = input()\n",
    "li = []\n",
    "str_split = str.strip().split(' ')\n",
    "for ele in str_split:\n",
    "    #if int(ele)<n-1:\n",
    "    li.append(int(ele))\n",
    "for i in range (n):\n",
    "    for j in range(i+1, n):\n",
    "        if (li[i]==li[j]):\n",
    "            print(li[i])"
   ]
  },
  {
   "cell_type": "raw",
   "metadata": {},
   "source": [
    "Array Intersection\n",
    "Send Feedback\n",
    "Given two random integer arrays of size M and N, print their intersection. That is, print all the elements that are present in both the given arrays.\n",
    "Input arrays can contain duplicate elements.\n",
    "Note : Order of the elements is not important"
   ]
  },
  {
   "cell_type": "code",
   "execution_count": null,
   "metadata": {},
   "outputs": [],
   "source": [
    "n = int(input())\n",
    "li = [int(x) for x in input().split()]\n",
    "m = int(input())\n",
    "li2 = [int(x) for x in input().split()]\n",
    "\n",
    "for ele in li:\n",
    "    k = ele\n",
    "    if k in li2:\n",
    "        print(k)\n",
    "        li2.remove(k)"
   ]
  },
  {
   "cell_type": "raw",
   "metadata": {},
   "source": [
    "Pair Sum\n",
    "Send Feedback\n",
    "Given a random integer array \"ARR\" and a number \"X\". Find and print the pair of elements in the array which sum to \"X\".\n",
    "Given array can contain duplicate elements as well.\n",
    "While printing a pair, print the smaller element first.\n",
    "That is, if a valid pair is (6, 5) print \"5 6\". There is no constraint that out of 5 pairs which have to be printed in 1st line. You can print pairs in any order, just be careful about the order of elements in a pair."
   ]
  },
  {
   "cell_type": "code",
   "execution_count": null,
   "metadata": {},
   "outputs": [],
   "source": [
    "## Read input as specified in the question.\n",
    "## Print output as specified in the question.\n",
    "n = int(input())\n",
    "li = [int(x) for x in input().split()]\n",
    "x = int(input())\n",
    "#li.sort()\n",
    "for i in range(n):\n",
    "    for j in range(i+1, n):\n",
    "        if li[i]+li[j]==x:\n",
    "            \n",
    "            if li[i]<li[j]:\n",
    "                print(li[i], li[j])\n",
    "            elif li[j]<li[i]:\n",
    "                print(li[j], li[i])\n",
    "            else:\n",
    "                print(li[i], li[j])\n",
    "                \n",
    "        "
   ]
  },
  {
   "cell_type": "raw",
   "metadata": {},
   "source": [
    "Triplet Sum\n",
    "Send Feedback\n",
    "Given a random integer array and a number X. Find and print the triplets of elements in the array which sum to X.\n",
    "While printing a triplet, print the smallest element first.\n",
    "That is, if a valid triplet is (6, 5, 10) print \"5 6 10\". There is no constraint that out of 5 triplets which have to be printed on 1st line. You can print triplets in any order, just be careful about the order of elements in a triplet."
   ]
  },
  {
   "cell_type": "code",
   "execution_count": null,
   "metadata": {},
   "outputs": [],
   "source": [
    "## Read input as specified in the question.\n",
    "## Print output as specified in the question.\n",
    "n = int(input())\n",
    "li = [int(x) for x in input().split()]\n",
    "x = int(input())\n",
    "for i in range(n):\n",
    "    for j in range(i+1, n):\n",
    "        for k in range(j+1,n):\n",
    "            if li[i]+li[j]+li[k]==x:\n",
    "                li2 = [li[i], li[j], li[k]]\n",
    "                li2.sort()\n",
    "                for ele in li2:\n",
    "                    print(ele, end=\" \")\n",
    "                print()"
   ]
  },
  {
   "cell_type": "raw",
   "metadata": {},
   "source": [
    "Sort 0 1\n",
    "Send Feedback\n",
    "You are given an integer array A that contains only integers 0 and 1. Write a function to sort this array. Find a solution which scans the array only once. Don't use extra array.\n",
    "You need to change in the given array itself. So no need to return or print anything."
   ]
  },
  {
   "cell_type": "code",
   "execution_count": null,
   "metadata": {},
   "outputs": [],
   "source": [
    "n = int(input())\n",
    "li = [int(x) for x in input().split()]\n",
    "\n",
    "def sort_it(li, n):\n",
    "    for ele in li:\n",
    "        if ele == 0:\n",
    "            print(ele, end = \" \")\n",
    "    for ele in li:\n",
    "        if ele == 1:\n",
    "            print(ele, end = \" \")\n",
    "\n",
    "sort_it(li, n)"
   ]
  }
 ],
 "metadata": {
  "kernelspec": {
   "display_name": "Python 3",
   "language": "python",
   "name": "python3"
  },
  "language_info": {
   "codemirror_mode": {
    "name": "ipython",
    "version": 3
   },
   "file_extension": ".py",
   "mimetype": "text/x-python",
   "name": "python",
   "nbconvert_exporter": "python",
   "pygments_lexer": "ipython3",
   "version": "3.8.2"
  }
 },
 "nbformat": 4,
 "nbformat_minor": 4
}
