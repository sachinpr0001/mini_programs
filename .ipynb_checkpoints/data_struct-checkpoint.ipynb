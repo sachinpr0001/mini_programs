{
 "cells": [
  {
   "cell_type": "raw",
   "metadata": {},
   "source": [
    "Searching and Sorting"
   ]
  },
  {
   "cell_type": "markdown",
   "metadata": {},
   "source": [
    "## Binary Search"
   ]
  },
  {
   "cell_type": "raw",
   "metadata": {},
   "source": [
    "Code Binary Search\n",
    "Send Feedback\n",
    "Given a sorted integer array (in ascending order) and an element \"VAL\". You need to search this element \"VAL\" in the given input array using Binary Search. Return the index of element in the input.\n",
    "Indexing starts from 0.\n",
    "Return -1 if \"VAL\" is not present in the input array.\n"
   ]
  },
  {
   "cell_type": "code",
   "execution_count": null,
   "metadata": {},
   "outputs": [],
   "source": [
    "def binary_search(n, li, x):\n",
    "    s = 0\n",
    "    e = n-1\n",
    "    \n",
    "    while s<=e:\n",
    "        mid = (s+e)//2\n",
    "        if li[mid] == x:\n",
    "            return mid\n",
    "        elif li[mid] < x:\n",
    "            s = mid + 1\n",
    "            continue\n",
    "        elif li[mid] > x:\n",
    "            e = mid - 1 \n",
    "            continue\n",
    "    if x not in li:\n",
    "            return -1\n",
    "n = int(input())\n",
    "li = [int(x) for x in input().split()]\n",
    "x = int(input())\n",
    "found_index = binary_search(n, li, x)\n",
    "print(found_index)"
   ]
  },
  {
   "cell_type": "markdown",
   "metadata": {},
   "source": [
    "## Bubble Sort"
   ]
  },
  {
   "cell_type": "raw",
   "metadata": {},
   "source": [
    "Given a random integer array. Sort this array using bubble sort.\n",
    "Change in the input array itself. You don't need to return or print elements."
   ]
  },
  {
   "cell_type": "code",
   "execution_count": null,
   "metadata": {},
   "outputs": [],
   "source": [
    "n = int(input())\n",
    "li = [int(x) for x in input().split()]\n",
    "\n",
    "for round in range(n):\n",
    "    for i in range(round, n):\n",
    "        for j in range(i+1, n):\n",
    "            if li[j] < li[i]:\n",
    "                li[i], li[j] = li[j], li[i]\n",
    "                #print(round, i, j)\n",
    "        break\n",
    "for ele in li:\n",
    "    print(ele, end = \" \")"
   ]
  },
  {
   "cell_type": "markdown",
   "metadata": {},
   "source": [
    "## Insertion Sort"
   ]
  },
  {
   "cell_type": "raw",
   "metadata": {},
   "source": [
    "Given a random integer array. Sort this array using insertion sort.\n",
    "Change in the input array itself. You don't need to return or print elements."
   ]
  },
  {
   "cell_type": "code",
   "execution_count": null,
   "metadata": {},
   "outputs": [],
   "source": [
    "n = int(input())\n",
    "li = [int(x) for x in input().split()]\n",
    "for i in range(1, n):\n",
    "    j = i-1\n",
    "    temp = li[i]\n",
    "    while li[j]>temp and j>=0:\n",
    "        li[j+1] = li[j]\n",
    "        j = j - 1\n",
    "        li[j+1] = temp\n",
    "\n",
    "for ele in li:\n",
    "    print(ele, end = \" \")\n"
   ]
  },
  {
   "cell_type": "raw",
   "metadata": {},
   "source": [
    "Code Merge Two Sorted Arrays\n",
    "Send Feedback\n",
    "Given two sorted arrays of Size M and N respectively, merge them into a third array such that the third array is also sorted."
   ]
  },
  {
   "cell_type": "code",
   "execution_count": null,
   "metadata": {},
   "outputs": [],
   "source": [
    "n = int(input())\n",
    "li = [int(x) for x in input().split()]\n",
    "m = int(input())\n",
    "li2 = [int(x) for x in input().split()]\n",
    "li_main = []\n",
    "i = 0\n",
    "j = 0\n",
    "while (i<n) and (j<m):\n",
    "    #print(li[i], li2[j])\n",
    "    if li[i]<li2[j]:\n",
    "        #print(li[i])\n",
    "        li_main.append(li[i])\n",
    "        i = i + 1\n",
    "        continue\n",
    "        \n",
    "    elif li[i]>li2[j]:\n",
    "        #print(li2[j])\n",
    "        li_main.append(li2[j])\n",
    "        j = j + 1\n",
    "        continue\n",
    "    else:\n",
    "        #print(li[i])\n",
    "        #print(li2[j])\n",
    "        li_main.append(li[i])\n",
    "        li_main.append(li2[j]) \n",
    "        i = i + 1\n",
    "        j = j + 1\n",
    "while i <n:\n",
    "    li_main.append(li[i])\n",
    "    i = i + 1\n",
    "while j <m:\n",
    "    li_main.append(li2[j])\n",
    "    j = j + 1\n",
    "for ele in li_main:\n",
    "    print(ele, end = \" \")"
   ]
  },
  {
   "cell_type": "raw",
   "metadata": {},
   "source": [
    "Push Zeros to end\n",
    "Send Feedback\n",
    "Given a random integer array, push all the zeros that are present to end of the array. The respective order of other elements should remain same.\n",
    "Change in the input array itself. You don't need to return or print elements. Don't use extra array.\n",
    "Note : You need to do this in one scan of array only.\n"
   ]
  },
  {
   "cell_type": "code",
   "execution_count": null,
   "metadata": {},
   "outputs": [],
   "source": [
    "n = int(input())\n",
    "li = [int(x) for x in input().split()]\n",
    "li2 = []\n",
    "for i in range(n):\n",
    "    if li[i] != 0:\n",
    "        li2.append(li[i])\n",
    "while i<=n:\n",
    "    li2.append(0)\n",
    "    i = i + 1\n",
    "length1 = len(li)\n",
    "length2 = len(li2)\n",
    "s = length1 - length2\n",
    "x = 0\n",
    "while x<s:\n",
    "    li2.append(0)\n",
    "    x = x + 1\n",
    "for ele in li2:\n",
    "    print(ele, end = \" \")"
   ]
  },
  {
   "cell_type": "raw",
   "metadata": {},
   "source": [
    "Rotate array\n",
    "Send Feedback\n",
    "Given a random integer array of size n, write a function that rotates the given array by d elements (towards left)\n",
    "Change in the input array itself. You don't need to return or print elements."
   ]
  },
  {
   "cell_type": "code",
   "execution_count": 1,
   "metadata": {},
   "outputs": [
    {
     "name": "stdout",
     "output_type": "stream",
     "text": [
      "5\n",
      "1 2 3 4 5\n",
      "3\n",
      "4 5 1 2 3\n"
     ]
    }
   ],
   "source": [
    "def Rotate(arr, d):\n",
    "    # MOST SIMPLEST ONE LINER CODE\n",
    "    arr[d:], arr[:d] = arr[:d], arr[d:]\n",
    "    \n",
    "    \n",
    "    # 1ST (CORRECT) APPROACH CODE\n",
    "\n",
    "#    for k in range(1, d+1):\n",
    "#        temp = arr[0]\n",
    "#        for i in range(1, n):\n",
    "#            arr[i-1] = arr[i]\n",
    "#        arr[n-1] = temp\n",
    "\n",
    "    \n",
    "    #2ND (CORRECT) APPROACH CODE\n",
    "    \n",
    "#    arr_temp = []\n",
    "#    for i in range(d):\n",
    "#        arr_temp.append(arr[i])\n",
    "#    for j in range(d, n):\n",
    "#        arr[j-d] = arr[j]\n",
    "#    r = n-d\n",
    "#    for k in range(d):\n",
    "#        arr[r] = arr_temp[k]\n",
    "#        r = r+1\n",
    "    \n",
    "    #3RD (CORRECT) APPROACH CODE\n",
    "    #leng = len(arr)\n",
    "    #arr = arr[::-1]\n",
    "    #arr = arr[leng-d-1:0:-1]\n",
    "    #arr[:] = arr[::-1]\n",
    "    #print(arr)\n",
    "    \n",
    "    \n",
    "    #[item for i in range(0,leng,leng//2) for item in arr[i:i+leng//2][::-1]]\n",
    "    \n",
    "    \n",
    "    \n",
    "# Main\n",
    "n=int(input())\n",
    "arr=list(int(i) for i in input().strip().split(' '))\n",
    "d=int(input())\n",
    "Rotate(arr, d)\n",
    "print(*arr)\n"
   ]
  },
  {
   "cell_type": "raw",
   "metadata": {},
   "source": [
    "Second Largest in array\n",
    "Send Feedback\n",
    "Given a random integer array of size n, find and return the second largest element present in the array.\n",
    "If n <= 1 or all elements are same in the array, return -2147483648 i.e. -2^31."
   ]
  },
  {
   "cell_type": "code",
   "execution_count": null,
   "metadata": {},
   "outputs": [],
   "source": [
    "n = int(input())\n",
    "li = [int(x) for x in input().split()]\n",
    "temp = max(li)\n",
    "while temp in li:\n",
    "    li.remove(temp)\n",
    "new_temp = max(li)\n",
    "xor = 0\n",
    "for ele in li:\n",
    "    xor = xor^ele\n",
    "    \n",
    "if n > 0 and xor !=0:\n",
    "    print(new_temp)\n",
    "else:\n",
    "    print(-2147483648)"
   ]
  },
  {
   "cell_type": "raw",
   "metadata": {},
   "source": [
    "Check Array Rotation\n",
    "Send Feedback\n",
    "Given an integer array, which is sorted (in increasing order) and has been rotated by some number k in clockwise direction. Find and return the k."
   ]
  },
  {
   "cell_type": "code",
   "execution_count": null,
   "metadata": {},
   "outputs": [],
   "source": [
    "n = int(input())\n",
    "li = [int(x) for x in input().split()]\n",
    "val = False\n",
    "for i in range(n):\n",
    "    if i<n-1:\n",
    "        if li[i]>li[i+1]:\n",
    "            print(i+1)\n",
    "            val = False\n",
    "            break\n",
    "        elif li[i]<li[i+1]:\n",
    "            val = True\n",
    "    elif i == n-1:\n",
    "        if li[i-1]>li[i]:\n",
    "            print(i)\n",
    "            break\n",
    "        elif li[i-1] < li[i]:\n",
    "            pass\n",
    "if val == True:\n",
    "    print(\"0\")"
   ]
  },
  {
   "cell_type": "raw",
   "metadata": {},
   "source": [
    "Sort 0 1 2\n",
    "Send Feedback\n",
    "You are given an integer array containing only 0s, 1s and 2s. Write a solution to sort this array using one scan only.\n",
    "You need to change in the given array itself. So no need to return or print anything."
   ]
  },
  {
   "cell_type": "code",
   "execution_count": null,
   "metadata": {},
   "outputs": [],
   "source": []
  },
  {
   "cell_type": "raw",
   "metadata": {},
   "source": []
  },
  {
   "cell_type": "code",
   "execution_count": null,
   "metadata": {},
   "outputs": [],
   "source": []
  },
  {
   "cell_type": "raw",
   "metadata": {},
   "source": []
  },
  {
   "cell_type": "code",
   "execution_count": null,
   "metadata": {},
   "outputs": [],
   "source": []
  },
  {
   "cell_type": "raw",
   "metadata": {},
   "source": []
  },
  {
   "cell_type": "code",
   "execution_count": null,
   "metadata": {},
   "outputs": [],
   "source": []
  },
  {
   "cell_type": "raw",
   "metadata": {},
   "source": []
  },
  {
   "cell_type": "code",
   "execution_count": null,
   "metadata": {},
   "outputs": [],
   "source": []
  },
  {
   "cell_type": "raw",
   "metadata": {},
   "source": []
  },
  {
   "cell_type": "code",
   "execution_count": null,
   "metadata": {},
   "outputs": [],
   "source": []
  },
  {
   "cell_type": "raw",
   "metadata": {},
   "source": []
  }
 ],
 "metadata": {
  "kernelspec": {
   "display_name": "Python 3",
   "language": "python",
   "name": "python3"
  },
  "language_info": {
   "codemirror_mode": {
    "name": "ipython",
    "version": 3
   },
   "file_extension": ".py",
   "mimetype": "text/x-python",
   "name": "python",
   "nbconvert_exporter": "python",
   "pygments_lexer": "ipython3",
   "version": "3.8.10"
  }
 },
 "nbformat": 4,
 "nbformat_minor": 4
}
