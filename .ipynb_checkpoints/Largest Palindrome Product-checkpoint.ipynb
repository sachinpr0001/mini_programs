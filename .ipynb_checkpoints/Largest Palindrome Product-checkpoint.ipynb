{
 "cells": [
  {
   "cell_type": "code",
   "execution_count": 21,
   "metadata": {},
   "outputs": [
    {
     "name": "stdout",
     "output_type": "stream",
     "text": [
      "0 0 0\n"
     ]
    }
   ],
   "source": [
    "def check_prime(k):\n",
    "    \n",
    "    isNotPrime = False\n",
    "    for d in range(2, k, 1):\n",
    "        if k % d == 0:\n",
    "            isNotPrime = True\n",
    "    return isNotPrime\n",
    "\n",
    "def check_palindrome(n):\n",
    "        isPalindrome = False\n",
    "        li = []\n",
    "        while n>0:\n",
    "            d = n%10\n",
    "            li.append(d)\n",
    "            n = n//10\n",
    "        li2 = []\n",
    "        li2[::] = li[::-1]\n",
    "        if li == li2:\n",
    "                isPalindrome = True\n",
    "        return isPalindrome\n",
    "count = 0\n",
    "for i in range(10000,1000000,1):\n",
    "    palindrome = check_palindrome(i)\n",
    "    if palindrome:\n",
    "            palindrome_non_prime = check_prime(i)\n",
    "            if palindrome_non_prime:\n",
    "                temp = i\n",
    "                test = 0\n",
    "                max = 0\n",
    "                first = 0\n",
    "                second = 0\n",
    "                factors = []\n",
    "                for j in range(2, i, 1):\n",
    "                    while temp%j==0:\n",
    "                        s = str(j)\n",
    "                        l = len(s)\n",
    "                        if l == 3:\n",
    "                            factors.append(j)\n",
    "                            temp = temp//j\n",
    "                            count = count + 1\n",
    "                        else:\n",
    "                            break\n",
    "                if len(factors) >1:\n",
    "                    #print(i, \" the factors are \", factors)\n",
    "                    test = i\n",
    "                    if test>max and test!= 999999:\n",
    "                        if first < factors[0] and second < factors[1]:\n",
    "                            first = factors[0]\n",
    "                            second = factors[1]\n",
    "                            max = test\n",
    "print(max, first, second)\n",
    "#Evil93"
   ]
  }
 ],
 "metadata": {
  "kernelspec": {
   "display_name": "Python 3",
   "language": "python",
   "name": "python3"
  },
  "language_info": {
   "codemirror_mode": {
    "name": "ipython",
    "version": 3
   },
   "file_extension": ".py",
   "mimetype": "text/x-python",
   "name": "python",
   "nbconvert_exporter": "python",
   "pygments_lexer": "ipython3",
   "version": "3.7.3"
  }
 },
 "nbformat": 4,
 "nbformat_minor": 2
}
