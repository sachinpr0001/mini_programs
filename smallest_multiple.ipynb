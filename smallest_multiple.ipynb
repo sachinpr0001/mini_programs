{
 "cells": [
  {
   "cell_type": "code",
   "execution_count": 35,
   "metadata": {},
   "outputs": [
    {
     "name": "stdout",
     "output_type": "stream",
     "text": [
      "232792560\n"
     ]
    }
   ],
   "source": [
    "#took help from the fastest solution i found online\n",
    "found = False\n",
    "n = 0\n",
    "while not found:\n",
    "    n = n + 2520\n",
    "    i = 20\n",
    "    while n%i == 0:\n",
    "        if i != 1:\n",
    "            i -= 1\n",
    "        else:\n",
    "            found = True\n",
    "            break\n",
    "print(n)\n",
    "    \n"
   ]
  },
  {
   "cell_type": "code",
   "execution_count": 32,
   "metadata": {},
   "outputs": [
    {
     "name": "stdout",
     "output_type": "stream",
     "text": [
      "232792560\n"
     ]
    }
   ],
   "source": [
    "answer = 0\n",
    "found = False\n",
    "while not found:\n",
    "    answer += 2520 # number needs to be a multiple of LCM of 1 -10\n",
    "    n = 20       # working backwards as it will be less likely to be a factor and save time\n",
    "    while answer % n == 0:\n",
    "        if n != 1:\n",
    "            n -= 1\n",
    "        else:\n",
    "            found = True\n",
    "            break\n",
    "print(answer)"
   ]
  },
  {
   "cell_type": "code",
   "execution_count": null,
   "metadata": {},
   "outputs": [],
   "source": [
    "\"\"\"\n",
    "\n",
    "\n",
    "MY FIRST SOLUTION :\n",
    "\n",
    "isDivisible = False\n",
    "n = 2520\n",
    "while isDivisible is not True:\n",
    "    i = 11\n",
    "    while i <=20:\n",
    "        if n%i == 0:\n",
    "            #print(n)\n",
    "            if i == 20:\n",
    "                print(n)\n",
    "                isDivisible = True\n",
    "                break\n",
    "            elif i<20:\n",
    "                i = i + 1\n",
    "                continue\n",
    "        elif n%i != 0:\n",
    "            n = n + 1\n",
    "            break\n",
    "\n",
    "\n",
    "SOLUTIONS FROM INTERNET\n",
    "\n",
    "\n",
    "SOLUTION 1\n",
    "\n",
    "def delbart(t,n):\n",
    "    if n > 0:\n",
    "        if not (t%n):\n",
    "            if delbart(t, n-1):\n",
    "                return True\n",
    "            else:\n",
    "                return False\n",
    "        else:\n",
    "            return False\n",
    "    else:\n",
    "        return True\n",
    "\n",
    "i = 20\n",
    "while not delbart(i,20):\n",
    "    i +=20\n",
    "\n",
    "print(i)\n",
    "\n",
    "\n",
    "\n",
    "SOLUTION 2\n",
    "\n",
    "def factorial(n):\n",
    "    return 1 if n == 0 else n * factorial(n - 1)\n",
    "\n",
    "\n",
    "if __name__ == '__main__':\n",
    "    for number in range(1, factorial(20) + 1):\n",
    "        for divisor in range(20, 1, -1):\n",
    "            if number % divisor != 0:\n",
    "                break\n",
    "        else:\n",
    "            print(number)\n",
    "            break\n",
    "\n",
    "SOLUTION 3 (FASTEST)\n",
    "\n",
    "answer = 0\n",
    "found = False\n",
    "track = 0\n",
    "while not found:\n",
    "    answer += 2520 # number needs to be a multiple of LCM of 1 -10\n",
    "    n = 20       # working backwards as it will be less likely to be a factor and save time\n",
    "    while answer % n == 0:\n",
    "        if n != 1:\n",
    "            n -= 1\n",
    "        else:\n",
    "            found = True\n",
    "            break\n",
    "print(answer)\n",
    "\n",
    "\"\"\""
   ]
  }
 ],
 "metadata": {
  "kernelspec": {
   "display_name": "Python 3",
   "language": "python",
   "name": "python3"
  },
  "language_info": {
   "codemirror_mode": {
    "name": "ipython",
    "version": 3
   },
   "file_extension": ".py",
   "mimetype": "text/x-python",
   "name": "python",
   "nbconvert_exporter": "python",
   "pygments_lexer": "ipython3",
   "version": "3.7.3"
  }
 },
 "nbformat": 4,
 "nbformat_minor": 2
}
