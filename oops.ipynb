{
 "cells": [
  {
   "cell_type": "markdown",
   "metadata": {},
   "source": [
    "### OOPS in A Python"
   ]
  },
  {
   "cell_type": "code",
   "execution_count": 3,
   "metadata": {},
   "outputs": [
    {
     "name": "stdout",
     "output_type": "stream",
     "text": [
      "<__main__.Person object at 0x063F2AC0>\n",
      "<class '__main__.Person'>\n"
     ]
    }
   ],
   "source": [
    "class Person():\n",
    "    pass\n",
    "\n",
    "p = Person()\n",
    "print(p)\n",
    "print(type(p))"
   ]
  },
  {
   "cell_type": "code",
   "execution_count": 14,
   "metadata": {
    "scrolled": true
   },
   "outputs": [
    {
     "name": "stdout",
     "output_type": "stream",
     "text": [
      "Hello World!\n",
      "My name is Sachin\n",
      "I am from Coding Blocks\n",
      "I am Nepali\n",
      "My name is Arnav\n",
      "I am from Mircromax\n",
      "I am Nepali\n"
     ]
    }
   ],
   "source": [
    "class Person():\n",
    "    \n",
    "    #Class Variable, common for all objects of the same class\n",
    "    nationality = \"Nepali\"\n",
    "    \n",
    "    def __init__(self, pname, clg):\n",
    "        # Instance Variables, these are different every instance of the class\n",
    "        self.name = pname\n",
    "        self.college = clg\n",
    "    \n",
    "    def sayHi(self,name):\n",
    "        \n",
    "        print(\"Hello \"+name)\n",
    "        \n",
    "    def introduce(self):\n",
    "        print(\"My name is\", self.name)\n",
    "        print(\"I am from\", self.college)\n",
    "        print(\"I am\", self.nationality)\n",
    "        \n",
    "p = Person(\"Sachin\", \"Coding Blocks\")\n",
    "p.sayHi(\"World!\")\n",
    "p.introduce()\n",
    "\n",
    "p2 = Person(\"Arnav\", \"Mircromax\")\n",
    "p2.introduce()"
   ]
  },
  {
   "cell_type": "markdown",
   "metadata": {},
   "source": [
    "### Instance Variables Vs Class Variables"
   ]
  },
  {
   "cell_type": "code",
   "execution_count": 18,
   "metadata": {},
   "outputs": [
    {
     "name": "stdout",
     "output_type": "stream",
     "text": [
      "German Shephard\n",
      "['HighJump', 'Roll Over', 'LowJump', 'Roll Upside Down']\n",
      "Golden Retriever\n",
      "['HighJump', 'Roll Over', 'LowJump', 'Roll Upside Down']\n"
     ]
    }
   ],
   "source": [
    "class Dog():\n",
    "    \n",
    "    color = \"Brown\"\n",
    "    #common for all dat member of the class\n",
    "    activities = []\n",
    "    \n",
    "    def __init__(self, breed):\n",
    "        self.breed = breed\n",
    "        \n",
    "    def addActivity(self, act):\n",
    "        self.activities.append(act)\n",
    "        \n",
    "    def doActivity(self):\n",
    "        print(self.breed)\n",
    "        print(self.activities)\n",
    "        \n",
    "d1 = Dog(\"German Shephard\")\n",
    "d2 = Dog(\"Golden Retriever\")\n",
    "\n",
    "d1.addActivity(\"HighJump\")\n",
    "d1.addActivity(\"Roll Over\")\n",
    "\n",
    "d2.addActivity(\"LowJump\")\n",
    "d2.addActivity(\"Roll Upside Down\")\n",
    "\n",
    "\n",
    "\n",
    "d1.doActivity()\n",
    "d2.doActivity()\n",
    "    \n",
    "    "
   ]
  },
  {
   "cell_type": "code",
   "execution_count": 19,
   "metadata": {},
   "outputs": [
    {
     "name": "stdout",
     "output_type": "stream",
     "text": [
      "German Shephard\n",
      "['HighJump', 'Roll Over']\n",
      "Golden Retriever\n",
      "['LowJump', 'Roll Upside Down']\n"
     ]
    }
   ],
   "source": [
    "class Dog():\n",
    "    \n",
    "    color = \"Brown\"\n",
    "    #common for all dat member of the class\n",
    "    #activities = []\n",
    "    \n",
    "    def __init__(self, breed):\n",
    "        self.breed = breed\n",
    "        self.activities = []\n",
    "        \n",
    "    def addActivity(self, act):\n",
    "        self.activities.append(act)\n",
    "        \n",
    "    def doActivity(self):\n",
    "        print(self.breed)\n",
    "        print(self.activities)\n",
    "        \n",
    "d1 = Dog(\"German Shephard\")\n",
    "d2 = Dog(\"Golden Retriever\")\n",
    "\n",
    "d1.addActivity(\"HighJump\")\n",
    "d1.addActivity(\"Roll Over\")\n",
    "\n",
    "d2.addActivity(\"LowJump\")\n",
    "d2.addActivity(\"Roll Upside Down\")\n",
    "\n",
    "d1.doActivity()\n",
    "d2.doActivity()\n"
   ]
  },
  {
   "cell_type": "markdown",
   "metadata": {},
   "source": [
    "### Public Vs Private"
   ]
  },
  {
   "cell_type": "code",
   "execution_count": 27,
   "metadata": {},
   "outputs": [
    {
     "name": "stdout",
     "output_type": "stream",
     "text": [
      "German Shephard\n",
      "['HighJump', 'Roll Over']\n",
      "Doing Secret Activity  German Shephard\n",
      "Golden Retriever\n",
      "['LowJump', 'Roll Upside Down']\n",
      "Doing Secret Activity  Golden Retriever\n"
     ]
    }
   ],
   "source": [
    "class Dog():\n",
    "    \n",
    "    color = \"Brown\"\n",
    "    #common for all dat member of the class\n",
    "    #activities = []\n",
    "    \n",
    "    def __init__(self, breed):\n",
    "        \"\"\"This method accepts the breed of the dog and initializes it\"\"\"\n",
    "        self.breed = breed\n",
    "        self.activities = []\n",
    "        \n",
    "    def addActivity(self, act):\n",
    "        self.activities.append(act)\n",
    "        \n",
    "    def __secretActivity(self):\n",
    "        print(\"Doing Secret Activity \", self.breed)\n",
    "        \n",
    "    def doActivity(self):\n",
    "        \"\"\"This is reg dog activities\"\"\"\n",
    "        print(self.breed)\n",
    "        print(self.activities)\n",
    "        self.__secretActivity()\n",
    "        \n",
    "d1 = Dog(\"German Shephard\")\n",
    "d2 = Dog(\"Golden Retriever\")\n",
    "\n",
    "d1.addActivity(\"HighJump\")\n",
    "d1.addActivity(\"Roll Over\")\n",
    "#d1.__secretActivity()\n",
    "\n",
    "d2.addActivity(\"LowJump\")\n",
    "d2.addActivity(\"Roll Upside Down\")\n",
    "#d2.__secretActivity()\n",
    "\n",
    "d1.doActivity()\n",
    "d2.doActivity()\n",
    "\n",
    "d2.doActivity?"
   ]
  },
  {
   "cell_type": "markdown",
   "metadata": {},
   "source": [
    "### Inheritance"
   ]
  },
  {
   "cell_type": "code",
   "execution_count": 41,
   "metadata": {},
   "outputs": [
    {
     "name": "stdout",
     "output_type": "stream",
     "text": [
      "Init School Member: Mr. Alpha\n",
      "Init Teacher : Mr. Alpha\n",
      "Name :Mr. Alpha 30\n",
      "Salary : 45000\n",
      "Init School Member: Xyz\n",
      "Init Student : Xyz\n",
      "Name :Xyz 20\n",
      "Marks 90\n"
     ]
    }
   ],
   "source": [
    "class SchoolMember():\n",
    "    def __init__(self, name, age):\n",
    "        self.name = name\n",
    "        self.age = age\n",
    "        print(\"Init School Member: %s\"%self.name)\n",
    "        \n",
    "    def introduce(self):\n",
    "        print(\"Name :%s %d\"%(self.name, self.age))\n",
    "        \n",
    "class Teacher(SchoolMember):\n",
    "    \n",
    "    def __init__(self, name, age, salary):\n",
    "        SchoolMember.__init__(self, name, age)\n",
    "        self.salary = salary\n",
    "        print(\"Init Teacher : %s\"%self.name)\n",
    "        \n",
    "    def introduce(self):\n",
    "        SchoolMember.introduce(self)\n",
    "        print(\"Salary : %d\"%(self.salary))\n",
    "        \n",
    "        \n",
    "class Student(SchoolMember):\n",
    "    '''Represents a school student'''\n",
    "    def __init__(self,name,age,marks):\n",
    "        SchoolMember.__init__(self,name,age)\n",
    "        self.marks = marks\n",
    "        print(\"Init Student : %s\"%self.name)\n",
    "        \n",
    "    def introduce(self):\n",
    "        SchoolMember.introduce(self)\n",
    "        print(\"Marks %d\"%(self.marks))\n",
    "t = Teacher(\"Mr. Alpha\", 30, 45000 )\n",
    "t.introduce()\n",
    "\n",
    "s = Student(\"Xyz\", 20, 90)\n",
    "s.introduce()\n",
    "        "
   ]
  },
  {
   "cell_type": "code",
   "execution_count": null,
   "metadata": {},
   "outputs": [],
   "source": []
  },
  {
   "cell_type": "code",
   "execution_count": null,
   "metadata": {},
   "outputs": [],
   "source": []
  },
  {
   "cell_type": "code",
   "execution_count": null,
   "metadata": {},
   "outputs": [],
   "source": []
  },
  {
   "cell_type": "code",
   "execution_count": null,
   "metadata": {},
   "outputs": [],
   "source": []
  },
  {
   "cell_type": "code",
   "execution_count": null,
   "metadata": {},
   "outputs": [],
   "source": []
  },
  {
   "cell_type": "code",
   "execution_count": null,
   "metadata": {},
   "outputs": [],
   "source": []
  },
  {
   "cell_type": "code",
   "execution_count": null,
   "metadata": {},
   "outputs": [],
   "source": []
  }
 ],
 "metadata": {
  "kernelspec": {
   "display_name": "Python 3",
   "language": "python",
   "name": "python3"
  },
  "language_info": {
   "codemirror_mode": {
    "name": "ipython",
    "version": 3
   },
   "file_extension": ".py",
   "mimetype": "text/x-python",
   "name": "python",
   "nbconvert_exporter": "python",
   "pygments_lexer": "ipython3",
   "version": "3.8.2"
  }
 },
 "nbformat": 4,
 "nbformat_minor": 4
}
